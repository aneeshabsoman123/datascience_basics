{
 "cells": [
  {
   "cell_type": "markdown",
   "metadata": {},
   "source": [
    "# Remove Unwanted observations"
   ]
  },
  {
   "cell_type": "markdown",
   "metadata": {},
   "source": [
    "# 1.Duplicate observations\n",
    "\n",
    "Duplicate observations most frequently arise during data collection, such as when you:\n",
    "\n",
    "a.Combine datasets from multiple places\n",
    "\n",
    "b.Scrape data\n",
    "\n",
    "c.Receive data from clients/other departments\n",
    "\n"
   ]
  },
  {
   "cell_type": "markdown",
   "metadata": {},
   "source": [
    "#  2.Irrelevant observations\n",
    "Irrelevant observations are those that don’t actually fit the specific problem that you’re trying to solve.\n",
    "For example, if you were building a model for Single-Family homes only, you wouldn't want observations for Apartments in there.\n",
    "\n",
    "This is also a great time to review your charts from Exploratory Analysis. \n",
    "\n",
    "You can look at the distribution charts for categorical features to see if there are any classes that shouldn’t be there.\n",
    "\n",
    "Checking for irrelevant observations before engineering features can save you many headaches down the road."
   ]
  },
  {
   "cell_type": "markdown",
   "metadata": {},
   "source": [
    "# Fix Structural Errors"
   ]
  },
  {
   "cell_type": "markdown",
   "metadata": {},
   "source": [
    "Structural errors are those that arise during measurement, data transfer, or other types of \"poor housekeeping.\"\n",
    "\n",
    "For instance, you can check for typos or inconsistent capitalization. This is mostly a concern for categorical features, and you can look at your bar plots to check."
   ]
  },
  {
   "cell_type": "markdown",
   "metadata": {},
   "source": [
    "# Finally, check for mislabeled classes\n",
    "\n",
    "i.e. separate classes that should really be the same.\n",
    "\n",
    "e.g. If ’N/A’ and ’Not Applicable’ appear as two separate classes, you should combine them.\n",
    "e.g. ’IT’ and ’information_technology’ should be a single class."
   ]
  },
  {
   "cell_type": "markdown",
   "metadata": {},
   "source": [
    "# Filter Unwanted Outliers\n",
    "\n",
    "Outliers can cause problems with certain types of models. For example, linear regression models are less robust to outliers than decision tree models.\n",
    "\n",
    "In general, if you have a legitimate reason to remove an outlier, it will help your model’s performance.\n",
    "\n",
    "However, outliers are innocent until proven guilty. You should never remove an outlier just because it’s a \"big number.\" That big number could be very informative for your model.\n",
    "\n",
    "We can’t stress this enough: you must have a good reason for removing an outlier, such as suspicious measurements that are unlikely to be real data."
   ]
  },
  {
   "cell_type": "code",
   "execution_count": null,
   "metadata": {},
   "outputs": [],
   "source": []
  }
 ],
 "metadata": {
  "kernelspec": {
   "display_name": "Python 3",
   "language": "python",
   "name": "python3"
  },
  "language_info": {
   "codemirror_mode": {
    "name": "ipython",
    "version": 3
   },
   "file_extension": ".py",
   "mimetype": "text/x-python",
   "name": "python",
   "nbconvert_exporter": "python",
   "pygments_lexer": "ipython3",
   "version": "3.8.5"
  }
 },
 "nbformat": 4,
 "nbformat_minor": 4
}
