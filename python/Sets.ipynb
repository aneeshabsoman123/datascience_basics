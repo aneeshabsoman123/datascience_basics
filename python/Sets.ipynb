{
 "cells": [
  {
   "cell_type": "markdown",
   "metadata": {},
   "source": [
    "Sets are unordered.<br>\n",
    "Set elements are unique. Duplicate elements are not allowed.It is like primary key<br>\n",
    "A set itself may be modified, but the elements contained in the set must be of an immutable type.<br>"
   ]
  },
  {
   "cell_type": "code",
   "execution_count": 1,
   "metadata": {},
   "outputs": [
    {
     "data": {
      "text/plain": [
       "{1, 2, 3, 4, 5, 6}"
      ]
     },
     "execution_count": 1,
     "metadata": {},
     "output_type": "execute_result"
    }
   ],
   "source": [
    "#converting the list to set--> so that we can have only unique values in the database\n",
    "list1=[1,2,3,4,5,1,2,3,4,5,6,1,2,3]\n",
    "set1=set(list1)\n",
    "set1"
   ]
  },
  {
   "cell_type": "code",
   "execution_count": null,
   "metadata": {},
   "outputs": [],
   "source": [
    "filter()\n",
    "The filter() method filters the given sequence with the help of a function that tests each element in the sequence to be true or not.<br>\n",
    "\n",
    "filter(function, sequence) \n",
    "\n",
    "Parameters:\n",
    "function-->function should return true/false\n",
    "\n",
    "sequence-->sequence which needs to be filtered, it can be sets, lists, tuples, or containers of any iterators.\n",
    " \n",
    "Returns-->returns an iterator that is already filtered."
   ]
  },
  {
   "cell_type": "code",
   "execution_count": 2,
   "metadata": {},
   "outputs": [
    {
     "name": "stdout",
     "output_type": "stream",
     "text": [
      "The filtered letters are:\n",
      "e\n",
      "e\n"
     ]
    }
   ],
   "source": [
    "# function that filters vowels \n",
    "def fun(variable): \n",
    "    letters = ['a', 'e', 'i', 'o', 'u'] \n",
    "    if (variable in letters): \n",
    "        return True\n",
    "    else: \n",
    "        return False\n",
    "  \n",
    "  \n",
    "# sequence \n",
    "sequence = ['g', 'e', 'e', 'j', 'k', 's', 'p', 'r'] \n",
    "  \n",
    "# using filter function \n",
    "filtered = filter(fun, sequence) \n",
    "  \n",
    "print('The filtered letters are:') \n",
    "for s in filtered: \n",
    "    print(s) "
   ]
  },
  {
   "cell_type": "code",
   "execution_count": null,
   "metadata": {},
   "outputs": [],
   "source": []
  }
 ],
 "metadata": {
  "kernelspec": {
   "display_name": "Python 3",
   "language": "python",
   "name": "python3"
  },
  "language_info": {
   "codemirror_mode": {
    "name": "ipython",
    "version": 3
   },
   "file_extension": ".py",
   "mimetype": "text/x-python",
   "name": "python",
   "nbconvert_exporter": "python",
   "pygments_lexer": "ipython3",
   "version": "3.8.5"
  }
 },
 "nbformat": 4,
 "nbformat_minor": 4
}
