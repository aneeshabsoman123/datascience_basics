{
 "cells": [
  {
   "cell_type": "markdown",
   "metadata": {},
   "source": [
    "Dictionaries and lists share the following characteristics:\n",
    "\n",
    "Both are mutable.\n",
    "Both are dynamic. They can grow and shrink as needed.\n",
    "Both can be nested. \n",
    "A list can contain another list. A dictionary can contain another dictionary. A dictionary can also contain a list, and vice versa.\n",
    "\n",
    "\n",
    "Dictionaries differ from lists primarily in how elements are accessed:\n",
    "List elements are accessed by their position in the list, via indexing.\n",
    "Dictionary elements are accessed via keys."
   ]
  },
  {
   "cell_type": "markdown",
   "metadata": {},
   "source": [
    "rules of dictionaries\n",
    "1.a given key can appear in a dictionary only once. Duplicate keys are not allowed. A dictionary maps each key to a corresponding value, so it doesn’t make sense to map a particular key more than once.\n",
    "2.a dictionary key must be of a type that is immutable. You have already seen examples where several of the immutable types you are familiar with—integer, float, string, and Boolean—have served as dictionary keys.\n",
    "However, neither a list nor another dictionary can serve as a dictionary key, because lists and dictionaries are mutable:\n",
    "3."
   ]
  },
  {
   "cell_type": "markdown",
   "metadata": {},
   "source": [
    "Normally we use list\n",
    "name=[aneesha,devika,sruthi]\n",
    "salary=[40k,50k,60k]\n",
    "\n",
    "instead we can use dictionaries\n",
    "name_salary_dict={aneesha:40k,devika:50k,sruthi:60k}"
   ]
  },
  {
   "cell_type": "markdown",
   "metadata": {},
   "source": [
    "d = dict([\n",
    "    (<key>, <value>),\n",
    "    (<key>, <value),\n",
    "      .\n",
    "      .\n",
    "      .\n",
    "    (<key>, <value>)\n",
    "])"
   ]
  },
  {
   "cell_type": "code",
   "execution_count": null,
   "metadata": {},
   "outputs": [],
   "source": [
    "#dictionary uses curly braces\n",
    "d = {3: 'd', 2: 'c', 1: 'b', 0: 'a'}"
   ]
  },
  {
   "cell_type": "code",
   "execution_count": 2,
   "metadata": {},
   "outputs": [],
   "source": [
    "#nesting of list and dictionary within a dictionary\n",
    "person={'fname': 'Joe', \n",
    " 'lname': 'Fonebone', \n",
    " 'age': 51, \n",
    " 'spouse': 'Edna',\n",
    "'children': ['Ralph', 'Betty', 'Joey'],\n",
    " 'pets': {'dog': 'Fido', 'cat': 'Sox'}}\n"
   ]
  },
  {
   "cell_type": "code",
   "execution_count": 3,
   "metadata": {},
   "outputs": [
    {
     "data": {
      "text/plain": [
       "'Joe'"
      ]
     },
     "execution_count": 3,
     "metadata": {},
     "output_type": "execute_result"
    }
   ],
   "source": [
    "#accessing a dictionary\n",
    "person['fname']"
   ]
  },
  {
   "cell_type": "code",
   "execution_count": 5,
   "metadata": {},
   "outputs": [
    {
     "data": {
      "text/plain": [
       "'Joey'"
      ]
     },
     "execution_count": 5,
     "metadata": {},
     "output_type": "execute_result"
    }
   ],
   "source": [
    "#accessing a subdictionary\n",
    "person['children'][-1]dictionary\n"
   ]
  },
  {
   "cell_type": "code",
   "execution_count": 6,
   "metadata": {},
   "outputs": [
    {
     "data": {
      "text/plain": [
       "{}"
      ]
     },
     "execution_count": 6,
     "metadata": {},
     "output_type": "execute_result"
    }
   ],
   "source": [
    "#clear() empties dictionary d of all key-value pairs:\n",
    "d = {'a': 10, 'b': 20, 'c': 30}\n",
    "d.clear()\n",
    "d"
   ]
  },
  {
   "cell_type": "code",
   "execution_count": 11,
   "metadata": {},
   "outputs": [
    {
     "data": {
      "text/plain": [
       "'joey'"
      ]
     },
     "execution_count": 11,
     "metadata": {},
     "output_type": "execute_result"
    }
   ],
   "source": [
    "#changing to upper and lower case\n",
    "person['fname'][0].upper()\n",
    "person['children'][-1].lower()"
   ]
  },
  {
   "cell_type": "code",
   "execution_count": 13,
   "metadata": {},
   "outputs": [
    {
     "data": {
      "text/plain": [
       "31"
      ]
     },
     "execution_count": 13,
     "metadata": {},
     "output_type": "execute_result"
    }
   ],
   "source": [
    "#subtracting/adding directly to the values\n",
    "person['age']=person['age']-10\n",
    "person['age']"
   ]
  },
  {
   "cell_type": "code",
   "execution_count": 14,
   "metadata": {},
   "outputs": [
    {
     "data": {
      "text/plain": [
       "21"
      ]
     },
     "execution_count": 14,
     "metadata": {},
     "output_type": "execute_result"
    }
   ],
   "source": [
    "#subtracting/adding directly to the values\n",
    "person['age']-=10\n",
    "person['age']"
   ]
  },
  {
   "cell_type": "code",
   "execution_count": 17,
   "metadata": {},
   "outputs": [],
   "source": [
    "#inserting new key and value\n",
    "\n",
    "#creating empty dictionary\n",
    "d= {}\n",
    "\n",
    "#adding animal key and dog value into dictionary\n",
    "d['animal']='dog'\n"
   ]
  },
  {
   "cell_type": "code",
   "execution_count": 18,
   "metadata": {},
   "outputs": [
    {
     "data": {
      "text/plain": [
       "{'animal': 'dog'}"
      ]
     },
     "execution_count": 18,
     "metadata": {},
     "output_type": "execute_result"
    }
   ],
   "source": [
    "d"
   ]
  },
  {
   "cell_type": "markdown",
   "metadata": {},
   "source": [
    "methods in dictionary\n",
    "1.keys() returns a list of all keys \n",
    "2.values() returns a list of all values\n",
    "3.items() returns a list of tuples containing the key-value pairs in dictionary. The first item in each tuple is the key, and the second item is the key’s value"
   ]
  },
  {
   "cell_type": "code",
   "execution_count": null,
   "metadata": {},
   "outputs": [],
   "source": [
    "d = {'a': 10, 'b': 20, 'c': 30}\n",
    "list(d.keys())"
   ]
  },
  {
   "cell_type": "code",
   "execution_count": null,
   "metadata": {},
   "outputs": [],
   "source": [
    "d = {'a': 10, 'b': 20, 'c': 30}\n",
    "list(d.values())"
   ]
  },
  {
   "cell_type": "code",
   "execution_count": 19,
   "metadata": {},
   "outputs": [
    {
     "data": {
      "text/plain": [
       "[('a', 10), ('b', 20), ('c', 30)]"
      ]
     },
     "execution_count": 19,
     "metadata": {},
     "output_type": "execute_result"
    }
   ],
   "source": [
    "d = {'a': 10, 'b': 20, 'c': 30}\n",
    "list(d.items())\n"
   ]
  },
  {
   "cell_type": "code",
   "execution_count": 20,
   "metadata": {},
   "outputs": [
    {
     "data": {
      "text/plain": [
       "'b'"
      ]
     },
     "execution_count": 20,
     "metadata": {},
     "output_type": "execute_result"
    }
   ],
   "source": [
    "d = {'a': 10, 'b': 20, 'c': 30}\n",
    "list(d.items())[1][0]"
   ]
  },
  {
   "cell_type": "markdown",
   "metadata": {},
   "source": [
    "get()\n",
    "The Python dictionary .get() method provides a convenient way of getting the value of a key from a dictionary without checking ahead of time whether the key exists, and without raising an error."
   ]
  },
  {
   "cell_type": "code",
   "execution_count": 22,
   "metadata": {},
   "outputs": [
    {
     "name": "stdout",
     "output_type": "stream",
     "text": [
      "None\n"
     ]
    }
   ],
   "source": [
    " d = {'a': 10, 'b': 20, 'c': 30}\n",
    "print(d.get('z'))"
   ]
  },
  {
   "cell_type": "markdown",
   "metadata": {},
   "source": [
    "removing\n",
    "1.pop(key,value)-->removes specific key-value pair\n",
    "2.popItem()-->removes last key-value pair"
   ]
  },
  {
   "cell_type": "code",
   "execution_count": 24,
   "metadata": {},
   "outputs": [
    {
     "data": {
      "text/plain": [
       "{'a': 10, 'b': 20, 'c': 30}"
      ]
     },
     "execution_count": 24,
     "metadata": {},
     "output_type": "execute_result"
    }
   ],
   "source": [
    "d = {'a': 10, 'b': 20, 'c': 30}\n",
    "d.pop('z', -1)\n",
    "d"
   ]
  },
  {
   "cell_type": "code",
   "execution_count": 25,
   "metadata": {},
   "outputs": [
    {
     "data": {
      "text/plain": [
       "('c', 30)"
      ]
     },
     "execution_count": 25,
     "metadata": {},
     "output_type": "execute_result"
    }
   ],
   "source": [
    "d = {'a': 10, 'b': 20, 'c': 30}\n",
    "d.popitem()"
   ]
  },
  {
   "cell_type": "markdown",
   "metadata": {},
   "source": [
    "update(<obj>)\n",
    "    Merges a dictionary with another dictionary or with an iterable of key-value pairs."
   ]
  },
  {
   "cell_type": "code",
   "execution_count": 23,
   "metadata": {},
   "outputs": [
    {
     "data": {
      "text/plain": [
       "{'a': 10, 'b': 200, 'c': 30, 'd': 400}"
      ]
     },
     "execution_count": 23,
     "metadata": {},
     "output_type": "execute_result"
    }
   ],
   "source": [
    "d1 = {'a': 10, 'b': 20, 'c': 30}\n",
    "d2 = {'b': 200, 'd': 400}\n",
    "\n",
    "d1.update(d2)\n",
    "d1"
   ]
  },
  {
   "cell_type": "code",
   "execution_count": null,
   "metadata": {},
   "outputs": [],
   "source": []
  }
 ],
 "metadata": {
  "kernelspec": {
   "display_name": "Python 3",
   "language": "python",
   "name": "python3"
  },
  "language_info": {
   "codemirror_mode": {
    "name": "ipython",
    "version": 3
   },
   "file_extension": ".py",
   "mimetype": "text/x-python",
   "name": "python",
   "nbconvert_exporter": "python",
   "pygments_lexer": "ipython3",
   "version": "3.8.5"
  }
 },
 "nbformat": 4,
 "nbformat_minor": 4
}
